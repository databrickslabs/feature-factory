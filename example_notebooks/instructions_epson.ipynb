{
 "cells": [
  {
   "cell_type": "markdown",
   "metadata": {},
   "source": [
    "# Step-By-Step Implementaion of a Test Case\n",
    "\n",
    "* Get some fake get to test with.\n",
    "  * Personally, I am using market_data.csv, which I had locally.\n",
    "  * Place the file in example_notebook/\n",
    "* For now, keep 'channel' as the highest level of differentiation in the data.\n",
    "  * That means I am not modifying feature-factory/framework/channel.py.\n",
    "* Copy one of channel demos:\n",
    "  * cp -r channel channelDemoStore channelDemoMarket\n",
    "* Modify channelDemoMarket/\\__init__.py:\n",
    "  * from channelDemoMarket.sales import Sales\n",
    "  * _dt_col=\"header_capture_month\",\n",
    "  * _partition_col=\"issuer_name\",\n",
    "  * df = spark.read.csv(\"market_data.csv\", inferSchema=True, header=True)\n",
    "  * self.add_core(\"issuer\", df, [])\n",
    "\n"
   ]
  },
  {
   "cell_type": "code",
   "execution_count": null,
   "metadata": {},
   "outputs": [],
   "source": []
  }
 ],
 "metadata": {
  "kernelspec": {
   "display_name": "Python 3",
   "language": "python",
   "name": "python3"
  },
  "language_info": {
   "codemirror_mode": {
    "name": "ipython",
    "version": 3
   },
   "file_extension": ".py",
   "mimetype": "text/x-python",
   "name": "python",
   "nbconvert_exporter": "python",
   "pygments_lexer": "ipython3",
   "version": "3.6.7"
  }
 },
 "nbformat": 4,
 "nbformat_minor": 4
}
