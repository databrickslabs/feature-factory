{
 "cells": [
  {
   "cell_type": "code",
   "execution_count": 35,
   "metadata": {},
   "outputs": [],
   "source": [
    "from pyspark.sql import SparkSession\n",
    "from pyspark.sql.functions import col\n",
    "from pyspark.sql import functions as F\n",
    "from framework.feature_factory.helpers import Helpers\n",
    "from channelDemoMarket import Store\n",
    "\n",
    "spark = SparkSession.builder.appName('Test').getOrCreate()\n",
    "spark.conf.set(\"spark.sql.shuffle.partitions\", 96*2)"
   ]
  },
  {
   "cell_type": "code",
   "execution_count": 79,
   "metadata": {},
   "outputs": [
    {
     "name": "stdout",
     "output_type": "stream",
     "text": [
      "{\n",
      "    \"level1\": {\n",
      "        \"newlevel2\": {\n",
      "            \"config\": \"test_value\"\n",
      "        },\n",
      "        \"newlevel3\": {\n",
      "            \"newDict\": \"adding_dict_vals\"\n",
      "        },\n",
      "        \"simple\": {\n",
      "            \"list_value\": [\n",
      "                \"this\",\n",
      "                \"is\",\n",
      "                \"a\",\n",
      "                \"list\",\n",
      "                \"of\",\n",
      "                \"strings\"\n",
      "            ],\n",
      "            \"value\": \"simple_string_value\"\n",
      "        }\n",
      "    }\n",
      "}\n"
     ]
    }
   ],
   "source": [
    "#Create custom configs here.\n",
    "#This is not necessary, trying to implement custom configs to enable nested features.\n",
    "from framework.configobj import ConfigObj\n",
    "config = ConfigObj()\n",
    "\n",
    "#config.add(\"_partition_start\", [201706]).add(\"_partition_end\", [201812])\n",
    "#config.get_or_else(\"_partition_start\", \"\")\n",
    "\n",
    "# Easy add multiple layers deep\n",
    "config.add(\"level1.newlevel2.config\", \"test_value\")\n",
    "config.add(\"level1.newlevel3\", {\"newDict\":\"adding_dict_vals\"})\n",
    "config.add(\"level1.simple.value\", \"simple_string_value\")\n",
    "config.add(\"level1.simple.list_value\", [\"this\", \"is\", \"a\", \"list\", \"of\", \"strings\"])\n",
    "\n",
    "# Pretty print the config settings\n",
    "config.print()"
   ]
  },
  {
   "cell_type": "code",
   "execution_count": 36,
   "metadata": {},
   "outputs": [],
   "source": [
    "# Istantiate store\n",
    "#store = Store(_snapshot_date = \"2018-01-01\") #This works, but no neted features.\n",
    "store = Store(_snapshot_date = \"2018-01-01\")\n"
   ]
  },
  {
   "cell_type": "code",
   "execution_count": 37,
   "metadata": {},
   "outputs": [],
   "source": [
    "# Get The feature factory\n",
    "ff = store.ff"
   ]
  },
  {
   "cell_type": "code",
   "execution_count": 38,
   "metadata": {},
   "outputs": [],
   "source": [
    "# Grab some sales features\n",
    "mult_features, base_features = store.Sales().get_all()"
   ]
  },
  {
   "cell_type": "code",
   "execution_count": 39,
   "metadata": {},
   "outputs": [
    {
     "name": "stdout",
     "output_type": "stream",
     "text": [
      "n_rows: 5613\n",
      "n_cols: 7\n",
      "+--------------------+-----------+------------------+-----------+--------------------+----------------+----------------+\n",
      "|header_capture_month|issuer_name|chip_indicator_uid|product_uid|         description|purchase_txn_amt|purchase_txn_cnt|\n",
      "+--------------------+-----------+------------------+-----------+--------------------+----------------+----------------+\n",
      "| 2016-09-01 00:00:00| Royal Bank|                 7|          1|     Hardware Stores|   7.127944081E7|          919933|\n",
      "| 2017-04-01 00:00:00| Scotiabank|                 9|          1|Drug Stores, Phar...|   1.672346653E7|          784273|\n",
      "| 2018-12-01 00:00:00| Royal Bank|                 3|          1|Grocery Stores, S...|       100088.58|            1194|\n",
      "| 2018-08-01 00:00:00|       CIBC|                 7|          1|     Hardware Stores|   6.163271108E7|          706047|\n",
      "| 2017-09-01 00:00:00|       CIBC|                 3|          1|Fuel Dispenser, A...|             0.0|               0|\n",
      "+--------------------+-----------+------------------+-----------+--------------------+----------------+----------------+\n",
      "only showing top 5 rows\n",
      "\n"
     ]
    }
   ],
   "source": [
    "### For fisualization only.\n",
    "# Build a base dataframe from cores/sources\n",
    "example_df = store.get_core(\"issuer\")\n",
    "print(\"n_rows: %d\" %example_df.count())\n",
    "print(\"n_cols: %d\" %len(example_df.columns))\n",
    "example_df.show(truncate=True, n=5)"
   ]
  },
  {
   "cell_type": "code",
   "execution_count": 40,
   "metadata": {},
   "outputs": [
    {
     "name": "stdout",
     "output_type": "stream",
     "text": [
      "n_rows: 5\n",
      "n_cols: 2\n",
      "+--------------------+---------+\n",
      "|         issuer_name|issuer_id|\n",
      "+--------------------+---------+\n",
      "|          Royal Bank|        1|\n",
      "|BMO Bank of Montreal|        2|\n",
      "|          Scotiabank|        3|\n",
      "|     TD Canada Trust|        4|\n",
      "|                CIBC|        5|\n",
      "+--------------------+---------+\n",
      "\n"
     ]
    }
   ],
   "source": [
    "### For visualization only.\n",
    "# Build a base dataframe from cores/sources\n",
    "bank_df = store.get_core(\"bank_id\").alias('bank')\n",
    "print(\"n_rows: %d\" %bank_df.count())\n",
    "print(\"n_cols: %d\" %len(bank_df.columns))\n",
    "bank_df.show(truncate=True, n=5)"
   ]
  },
  {
   "cell_type": "code",
   "execution_count": 41,
   "metadata": {},
   "outputs": [
    {
     "name": "stdout",
     "output_type": "stream",
     "text": [
      "+--------------------+\n",
      "|         issuer_name|\n",
      "+--------------------+\n",
      "|BMO Bank of Montreal|\n",
      "|                CIBC|\n",
      "|          Scotiabank|\n",
      "|          Royal Bank|\n",
      "|     TD Canada Trust|\n",
      "+--------------------+\n",
      "\n"
     ]
    }
   ],
   "source": [
    "example_df.select(\"issuer_name\").distinct().show()"
   ]
  },
  {
   "cell_type": "code",
   "execution_count": 42,
   "metadata": {},
   "outputs": [],
   "source": [
    "# Build a base dataframe from cores/sources\n",
    "store_sales_df = store.get_core(\"issuer\").filter(col('purchase_txn_amt') > 0).alias('clean_amount')"
   ]
  },
  {
   "cell_type": "code",
   "execution_count": 43,
   "metadata": {},
   "outputs": [
    {
     "name": "stdout",
     "output_type": "stream",
     "text": [
      "n_rows: 5342\n",
      "n_cols: 7\n",
      "+--------------------+---------------+------------------+-----------+--------------------+----------------+----------------+\n",
      "|header_capture_month|    issuer_name|chip_indicator_uid|product_uid|         description|purchase_txn_amt|purchase_txn_cnt|\n",
      "+--------------------+---------------+------------------+-----------+--------------------+----------------+----------------+\n",
      "| 2016-09-01 00:00:00|     Royal Bank|                 7|          1|     Hardware Stores|   7.127944081E7|          919933|\n",
      "| 2017-04-01 00:00:00|     Scotiabank|                 9|          1|Drug Stores, Phar...|   1.672346653E7|          784273|\n",
      "| 2018-12-01 00:00:00|     Royal Bank|                 3|          1|Grocery Stores, S...|       100088.58|            1194|\n",
      "| 2018-08-01 00:00:00|           CIBC|                 7|          1|     Hardware Stores|   6.163271108E7|          706047|\n",
      "| 2018-10-01 00:00:00|TD Canada Trust|                 3|          1|Eating Places, Re...|           994.3|              17|\n",
      "+--------------------+---------------+------------------+-----------+--------------------+----------------+----------------+\n",
      "only showing top 5 rows\n",
      "\n"
     ]
    }
   ],
   "source": [
    "print(\"n_rows: %d\" %store_sales_df.count())\n",
    "print(\"n_cols: %d\" %len(store_sales_df.columns))\n",
    "store_sales_df.show(truncate=True, n=5)"
   ]
  },
  {
   "cell_type": "code",
   "execution_count": 44,
   "metadata": {},
   "outputs": [
    {
     "data": {
      "text/plain": [
       "datetime.datetime(2016, 1, 1, 0, 0)"
      ]
     },
     "execution_count": 44,
     "metadata": {},
     "output_type": "execute_result"
    }
   ],
   "source": [
    "store_sales_df.agg({\"header_capture_month\": \"min\"}).collect()[0][0]"
   ]
  },
  {
   "cell_type": "markdown",
   "metadata": {},
   "source": [
    "### Continue with example\n",
    "\n",
    "Make a join!"
   ]
  },
  {
   "cell_type": "code",
   "execution_count": 45,
   "metadata": {},
   "outputs": [
    {
     "name": "stdout",
     "output_type": "stream",
     "text": [
      "+---------------+--------------------+------------------+-----------+--------------------+----------------+----------------+---------+\n",
      "|    issuer_name|header_capture_month|chip_indicator_uid|product_uid|         description|purchase_txn_amt|purchase_txn_cnt|issuer_id|\n",
      "+---------------+--------------------+------------------+-----------+--------------------+----------------+----------------+---------+\n",
      "|     Royal Bank| 2016-09-01 00:00:00|                 7|          1|     Hardware Stores|   7.127944081E7|          919933|        1|\n",
      "|     Scotiabank| 2017-04-01 00:00:00|                 9|          1|Drug Stores, Phar...|   1.672346653E7|          784273|        3|\n",
      "|     Royal Bank| 2018-12-01 00:00:00|                 3|          1|Grocery Stores, S...|       100088.58|            1194|        1|\n",
      "|           CIBC| 2018-08-01 00:00:00|                 7|          1|     Hardware Stores|   6.163271108E7|          706047|        5|\n",
      "|TD Canada Trust| 2018-10-01 00:00:00|                 3|          1|Eating Places, Re...|           994.3|              17|        4|\n",
      "+---------------+--------------------+------------------+-----------+--------------------+----------------+----------------+---------+\n",
      "only showing top 5 rows\n",
      "\n"
     ]
    }
   ],
   "source": [
    "base_df = store_sales_df.join(bank_df, ['issuer_name'])\\\n",
    "  .select('clean_amount.*', 'bank.issuer_id')\n",
    "base_df.show(truncate=True, n=5)"
   ]
  },
  {
   "cell_type": "markdown",
   "metadata": {},
   "source": [
    "### Show distinct categoricals"
   ]
  },
  {
   "cell_type": "code",
   "execution_count": 46,
   "metadata": {},
   "outputs": [
    {
     "data": {
      "text/plain": [
       "[Row(chip_indicator_uid=5),\n",
       " Row(chip_indicator_uid=7),\n",
       " Row(chip_indicator_uid=3),\n",
       " Row(chip_indicator_uid=9),\n",
       " Row(chip_indicator_uid=4),\n",
       " Row(chip_indicator_uid=2),\n",
       " Row(chip_indicator_uid=6)]"
      ]
     },
     "execution_count": 46,
     "metadata": {},
     "output_type": "execute_result"
    }
   ],
   "source": [
    "base_df.select(\"chip_indicator_uid\").distinct().collect()"
   ]
  },
  {
   "cell_type": "code",
   "execution_count": 47,
   "metadata": {},
   "outputs": [
    {
     "data": {
      "text/plain": [
       "[Row(product_uid=2), Row(product_uid=1)]"
      ]
     },
     "execution_count": 47,
     "metadata": {},
     "output_type": "execute_result"
    }
   ],
   "source": [
    "base_df.select(\"product_uid\").distinct().collect()"
   ]
  },
  {
   "cell_type": "markdown",
   "metadata": {},
   "source": [
    "### Build a Features Dataframe\n",
    "\n",
    "Here, we are simply calling the aggregation methods in mult_features to be applied over a group by on 'issuer_name'"
   ]
  },
  {
   "cell_type": "code",
   "execution_count": 48,
   "metadata": {},
   "outputs": [
    {
     "name": "stdout",
     "output_type": "stream",
     "text": [
      "+--------------------+--------------------+--------------+\n",
      "|         issuer_name|           net_sales|total_quantity|\n",
      "+--------------------+--------------------+--------------+\n",
      "|BMO Bank of Montreal|  8.85825478646001E9|     286346816|\n",
      "|                CIBC|1.428790330563999E10|     483494762|\n",
      "|          Scotiabank|1.126012862541997...|     385629905|\n",
      "|          Royal Bank|1.919939227528001...|     636845558|\n",
      "|     TD Canada Trust|2.102817429950998...|     734890180|\n",
      "+--------------------+--------------------+--------------+\n",
      "\n"
     ]
    }
   ],
   "source": [
    "feature_df = ff.append_features(base_df, groupBy_cols = ['issuer_name'], feature_sets=[mult_features])\n",
    "#feature_df = ff.append_features(store_sales_df, groupBy_cols = ['issuer_name'], feature_sets=[mult_features])\n",
    "feature_df.show()"
   ]
  },
  {
   "cell_type": "markdown",
   "metadata": {},
   "source": [
    "### Write to Disk and Read the Aggregated Data\n",
    "\n",
    "Just a simple example on how to write the aggregated features dict to disk and read it."
   ]
  },
  {
   "cell_type": "code",
   "execution_count": 49,
   "metadata": {},
   "outputs": [
    {
     "name": "stdout",
     "output_type": "stream",
     "text": [
      "+--------------------+--------------------+--------------+\n",
      "|         issuer_name|           net_sales|total_quantity|\n",
      "+--------------------+--------------------+--------------+\n",
      "|BMO Bank of Montreal|  8.85825478646001E9|     286346816|\n",
      "|     TD Canada Trust|2.102817429950998...|     734890180|\n",
      "|          Royal Bank|1.919939227528001...|     636845558|\n",
      "|          Scotiabank|1.126012862541997...|     385629905|\n",
      "|                CIBC|1.428790330563999E10|     483494762|\n",
      "+--------------------+--------------------+--------------+\n",
      "\n"
     ]
    }
   ],
   "source": [
    "feature_df.write.format(\"parquet\").mode(\"overwrite\").save(\"./temp/base_feats_df_out\")\n",
    "read_df = spark.read.format(\"parquet\").load(\"./temp/base_feats_df_out\")\n",
    "read_df.show(truncate=True, n=5)"
   ]
  },
  {
   "cell_type": "markdown",
   "metadata": {},
   "source": [
    "### Using Multipliers\n",
    "\n",
    "We will create a new features dataframe using composite aggregations."
   ]
  },
  {
   "cell_type": "code",
   "execution_count": 50,
   "metadata": {},
   "outputs": [
    {
     "data": {
      "text/plain": [
       "{'snapshot_type': 'DAILY',\n",
       " 'snapshot_date': '2018-01-01',\n",
       " 'partition_col': None,\n",
       " 'date_col': 'header_capture_month',\n",
       " 'date_col_format': '%Y-%m-%d',\n",
       " 'partition_col_format': '%Y%m',\n",
       " 'date_filters': {'ranges': {'1m': {'start': '2017-12-01',\n",
       "    'end': '2018-01-01'},\n",
       "   '3m': {'start': '2017-10-01', 'end': '2018-01-01'}}},\n",
       " 'partition_lower': '201710',\n",
       " 'partition_upper': '201801'}"
      ]
     },
     "execution_count": 50,
     "metadata": {},
     "output_type": "execute_result"
    }
   ],
   "source": [
    "store.config.get_config('time_helpers').configs"
   ]
  },
  {
   "cell_type": "code",
   "execution_count": 51,
   "metadata": {},
   "outputs": [],
   "source": [
    "time_multipliers = store.get_daterange_multiplier()"
   ]
  },
  {
   "cell_type": "code",
   "execution_count": 52,
   "metadata": {},
   "outputs": [],
   "source": [
    "mult_by_time_features = mult_features.multiply(time_multipliers, \"STORE\")"
   ]
  },
  {
   "cell_type": "code",
   "execution_count": 53,
   "metadata": {},
   "outputs": [
    {
     "name": "stdout",
     "output_type": "stream",
     "text": [
      "+------------------+--------------------+--------------+--------------------+--------------------+-----------------------+-----------------------+\n",
      "|chip_indicator_uid|           net_sales|total_quantity|  STORE_1M_NET_SALES|  STORE_3M_NET_SALES|STORE_1M_TOTAL_QUANTITY|STORE_3M_TOTAL_QUANTITY|\n",
      "+------------------+--------------------+--------------+--------------------+--------------------+-----------------------+-----------------------+\n",
      "|                 5|      1.4351703091E8|       3915814|          4527384.78|       1.252198736E7|                 102887|                 311881|\n",
      "|                 7|5.751287592964993E10|    1518959975|1.8397529930000005E9| 5.008232215580001E9|               41209251|              122181830|\n",
      "|                 3| 5.409171115000006E7|       1696271|  390674.47000000003|  1088949.6099999999|                   6348|                  20523|\n",
      "|                 9|1.683412248285999...|    1000494061| 5.750419964200001E8|1.5866615026900005E9|               31548693|               92396379|\n",
      "|                 4|6.3425878529999964E7|       1898011|  1280.3799999999999|  1722.0300000000002|                     13|                     58|\n",
      "|                 2|2.5820206799999997E7|        243088|  1044744.5299999999|  2558333.0100000007|                   9274|                  23823|\n",
      "|                 6|               52.41|             1|                 0.0|               52.41|                      0|                      1|\n",
      "+------------------+--------------------+--------------+--------------------+--------------------+-----------------------+-----------------------+\n",
      "\n"
     ]
    }
   ],
   "source": [
    "feature_df = ff.append_features(store_sales_df,\n",
    "                                groupBy_cols = ['clean_amount.chip_indicator_uid'],\n",
    "                                feature_sets=[mult_features, mult_by_time_features])\n",
    "feature_df.show()"
   ]
  },
  {
   "cell_type": "markdown",
   "metadata": {},
   "source": [
    "### Write and read the new features dataframe"
   ]
  },
  {
   "cell_type": "code",
   "execution_count": 54,
   "metadata": {},
   "outputs": [
    {
     "name": "stdout",
     "output_type": "stream",
     "text": [
      "+------------------+--------------------+--------------+--------------------+--------------------+-----------------------+-----------------------+\n",
      "|chip_indicator_uid|           net_sales|total_quantity|  STORE_1M_NET_SALES|  STORE_3M_NET_SALES|STORE_1M_TOTAL_QUANTITY|STORE_3M_TOTAL_QUANTITY|\n",
      "+------------------+--------------------+--------------+--------------------+--------------------+-----------------------+-----------------------+\n",
      "|                 9|1.683412248285999...|    1000494061| 5.750419964200001E8|1.5866615026900005E9|               31548693|               92396379|\n",
      "|                 5|      1.4351703091E8|       3915814|          4527384.78|       1.252198736E7|                 102887|                 311881|\n",
      "|                 2|2.5820206799999997E7|        243088|  1044744.5299999999|  2558333.0100000007|                   9274|                  23823|\n",
      "|                 7|5.751287592964993E10|    1518959975|1.8397529930000005E9| 5.008232215580001E9|               41209251|              122181830|\n",
      "|                 4|6.3425878529999964E7|       1898011|  1280.3799999999999|  1722.0300000000002|                     13|                     58|\n",
      "|                 3| 5.409171115000006E7|       1696271|  390674.47000000003|  1088949.6099999999|                   6348|                  20523|\n",
      "|                 6|               52.41|             1|                 0.0|               52.41|                      0|                      1|\n",
      "+------------------+--------------------+--------------+--------------------+--------------------+-----------------------+-----------------------+\n",
      "\n"
     ]
    }
   ],
   "source": [
    "feature_df.write.format(\"parquet\").mode(\"overwrite\").save(\"./temp/agg_df_out\")\n",
    "spark.read.format(\"parquet\").load(\"./temp/agg_df_out\").show()"
   ]
  },
  {
   "cell_type": "markdown",
   "metadata": {},
   "source": [
    "### Categorical Multiplier\n",
    "Now let's assume we have several cateogical columns for which we want to calculate aggregates.\n",
    "\n",
    "The categorical multiplier allows you to either specific to which columns you wish to apply the multiplier as well as a minimum distinct values count n and an ignore list of columns and it will efficiently find all the columns with < n distinct values"
   ]
  },
  {
   "cell_type": "code",
   "execution_count": 71,
   "metadata": {},
   "outputs": [],
   "source": [
    "#feature_df\n",
    "categorical_multiplier = Helpers().get_categoricals_multiplier(df = store.get_core(\"issuer\"),\n",
    "                                                               col_list = ['chip_indicator_uid', 'product_uid'])\n",
    "mult_by_cat_features = mult_features.multiply(categorical_multiplier, \"STORE\")"
   ]
  },
  {
   "cell_type": "code",
   "execution_count": 74,
   "metadata": {},
   "outputs": [],
   "source": [
    "feature_df = ff.append_features(base_df,\n",
    "                                groupBy_cols=['issuer_name'],\n",
    "                                #Just adds raw columns with the values of the grouped by quantity.\n",
    "                                #groupBy_cols=['issuer_name', 'chip_indicator_uid', 'product_uid'],\n",
    "                                feature_sets=[mult_features, mult_by_time_features, mult_by_cat_features])"
   ]
  },
  {
   "cell_type": "code",
   "execution_count": 75,
   "metadata": {},
   "outputs": [
    {
     "name": "stdout",
     "output_type": "stream",
     "text": [
      "n cols = 27\n",
      "+--------------------+------------------+-----------+--------------------+--------------+------------------+------------------+-----------------------+-----------------------+------------------------------------+------------------------------------+------------------------------------+------------------------------------+------------------------------------+------------------------------------+------------------------------------+-----------------------------+-----------------------------+-----------------------------------------+-----------------------------------------+-----------------------------------------+-----------------------------------------+-----------------------------------------+-----------------------------------------+-----------------------------------------+----------------------------------+----------------------------------+\n",
      "|         issuer_name|chip_indicator_uid|product_uid|           net_sales|total_quantity|STORE_1M_NET_SALES|STORE_3M_NET_SALES|STORE_1M_TOTAL_QUANTITY|STORE_3M_TOTAL_QUANTITY|STORE_CHIP_INDICATOR_UID-5_NET_SALES|STORE_CHIP_INDICATOR_UID-7_NET_SALES|STORE_CHIP_INDICATOR_UID-3_NET_SALES|STORE_CHIP_INDICATOR_UID-9_NET_SALES|STORE_CHIP_INDICATOR_UID-4_NET_SALES|STORE_CHIP_INDICATOR_UID-2_NET_SALES|STORE_CHIP_INDICATOR_UID-6_NET_SALES|STORE_PRODUCT_UID-2_NET_SALES|STORE_PRODUCT_UID-1_NET_SALES|STORE_CHIP_INDICATOR_UID-5_TOTAL_QUANTITY|STORE_CHIP_INDICATOR_UID-7_TOTAL_QUANTITY|STORE_CHIP_INDICATOR_UID-3_TOTAL_QUANTITY|STORE_CHIP_INDICATOR_UID-9_TOTAL_QUANTITY|STORE_CHIP_INDICATOR_UID-4_TOTAL_QUANTITY|STORE_CHIP_INDICATOR_UID-2_TOTAL_QUANTITY|STORE_CHIP_INDICATOR_UID-6_TOTAL_QUANTITY|STORE_PRODUCT_UID-2_TOTAL_QUANTITY|STORE_PRODUCT_UID-1_TOTAL_QUANTITY|\n",
      "+--------------------+------------------+-----------+--------------------+--------------+------------------+------------------+-----------------------+-----------------------+------------------------------------+------------------------------------+------------------------------------+------------------------------------+------------------------------------+------------------------------------+------------------------------------+-----------------------------+-----------------------------+-----------------------------------------+-----------------------------------------+-----------------------------------------+-----------------------------------------+-----------------------------------------+-----------------------------------------+-----------------------------------------+----------------------------------+----------------------------------+\n",
      "|BMO Bank of Montreal|                 5|          1|1.7059025929999996E7|        496389|443321.47000000003|1416478.9900000002|                  11194|                  37841|                1.7059025929999996E7|                                 0.0|                                 0.0|                                 0.0|                                 0.0|                                 0.0|                                 0.0|                          0.0|         1.7059025929999996E7|                                   496389|                                        0|                                        0|                                        0|                                        0|                                        0|                                        0|                                 0|                            496389|\n",
      "|BMO Bank of Montreal|                 3|          2|              206.74|            10|               0.0|               0.0|                      0|                      0|                                 0.0|                                 0.0|                              206.74|                                 0.0|                                 0.0|                                 0.0|                                 0.0|                       206.74|                          0.0|                                        0|                                        0|                                       10|                                        0|                                        0|                                        0|                                        0|                                10|                                 0|\n",
      "|                CIBC|                 9|          2|      2.2705389325E8|      10331493|               0.0|     2.812341832E7|                      0|                1289555|                                 0.0|                                 0.0|                                 0.0|                      2.2705389325E8|                                 0.0|                                 0.0|                                 0.0|               2.2705389325E8|                          0.0|                                        0|                                        0|                                        0|                                 10331493|                                        0|                                        0|                                        0|                          10331493|                                 0|\n",
      "|                CIBC|                 3|          1|            26055.81|           633|            1778.2|3020.7900000000004|                     12|                     55|                                 0.0|                                 0.0|                            26055.81|                                 0.0|                                 0.0|                                 0.0|                                 0.0|                          0.0|                     26055.81|                                        0|                                        0|                                      633|                                        0|                                        0|                                        0|                                        0|                                 0|                               633|\n",
      "|     TD Canada Trust|                 7|          2|     1.51492205401E9|      35209543|               0.0|    1.0699467935E8|                      0|                1236767|                                 0.0|                     1.51492205401E9|                                 0.0|                                 0.0|                                 0.0|                                 0.0|                                 0.0|              1.51492205401E9|                          0.0|                                        0|                                 35209543|                                        0|                                        0|                                        0|                                        0|                                        0|                          35209543|                                 0|\n",
      "+--------------------+------------------+-----------+--------------------+--------------+------------------+------------------+-----------------------+-----------------------+------------------------------------+------------------------------------+------------------------------------+------------------------------------+------------------------------------+------------------------------------+------------------------------------+-----------------------------+-----------------------------+-----------------------------------------+-----------------------------------------+-----------------------------------------+-----------------------------------------+-----------------------------------------+-----------------------------------------+-----------------------------------------+----------------------------------+----------------------------------+\n",
      "only showing top 5 rows\n",
      "\n"
     ]
    }
   ],
   "source": [
    "print(\"n cols = %d\" %len(feature_df.columns))\n",
    "feature_df.show(truncate=True, n=5)"
   ]
  },
  {
   "cell_type": "markdown",
   "metadata": {},
   "source": [
    "### Nested features?\n",
    "\n",
    "The dataframe above uses the multipliers opperations with each aggregation individually. i.e. the number of columns follow an additive pattern, rather than multiplicative. Can we change that?"
   ]
  },
  {
   "cell_type": "code",
   "execution_count": 76,
   "metadata": {},
   "outputs": [],
   "source": [
    "#Try using the config file?"
   ]
  },
  {
   "cell_type": "code",
   "execution_count": null,
   "metadata": {},
   "outputs": [],
   "source": []
  }
 ],
 "metadata": {
  "kernelspec": {
   "display_name": "Python 3",
   "language": "python",
   "name": "python3"
  },
  "language_info": {
   "codemirror_mode": {
    "name": "ipython",
    "version": 3
   },
   "file_extension": ".py",
   "mimetype": "text/x-python",
   "name": "python",
   "nbconvert_exporter": "python",
   "pygments_lexer": "ipython3",
   "version": "3.6.7"
  }
 },
 "nbformat": 4,
 "nbformat_minor": 4
}
