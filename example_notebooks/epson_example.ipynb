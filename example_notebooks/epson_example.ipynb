{
 "cells": [
  {
   "cell_type": "code",
   "execution_count": 1,
   "metadata": {},
   "outputs": [],
   "source": [
    "from pyspark.sql.functions import col\n",
    "from pyspark.sql import functions as F\n",
    "from framework.feature_factory.helpers import Helpers\n",
    "from channelDemoMarket import Store\n",
    "\n",
    "##spark.conf.set(\"spark.sql.shuffle.partitions\", 96*2)"
   ]
  },
  {
   "cell_type": "code",
   "execution_count": 2,
   "metadata": {},
   "outputs": [],
   "source": [
    "# Istantiate store\n",
    "store = Store(_snapshot_date = \"2018-01-01\")\n",
    "#store = Store()"
   ]
  },
  {
   "cell_type": "code",
   "execution_count": 3,
   "metadata": {},
   "outputs": [],
   "source": [
    "# Get The feature factory\n",
    "ff = store.ff"
   ]
  },
  {
   "cell_type": "code",
   "execution_count": 4,
   "metadata": {},
   "outputs": [],
   "source": [
    "# Grab some sales features\n",
    "mult_features, base_features = store.Sales().get_all()"
   ]
  },
  {
   "cell_type": "code",
   "execution_count": 5,
   "metadata": {},
   "outputs": [
    {
     "name": "stdout",
     "output_type": "stream",
     "text": [
      "n_rows: 5613\n",
      "n_cols: 7\n",
      "+--------------------+-----------+------------------+-----------+--------------------+----------------+----------------+\n",
      "|header_capture_month|issuer_name|chip_indicator_uid|product_uid|         description|purchase_txn_amt|purchase_txn_cnt|\n",
      "+--------------------+-----------+------------------+-----------+--------------------+----------------+----------------+\n",
      "| 2016-09-01 00:00:00| Royal Bank|                 7|          1|     Hardware Stores|   7.127944081E7|          919933|\n",
      "| 2017-04-01 00:00:00| Scotiabank|                 9|          1|Drug Stores, Phar...|   1.672346653E7|          784273|\n",
      "| 2018-12-01 00:00:00| Royal Bank|                 3|          1|Grocery Stores, S...|       100088.58|            1194|\n",
      "| 2018-08-01 00:00:00|       CIBC|                 7|          1|     Hardware Stores|   6.163271108E7|          706047|\n",
      "| 2017-09-01 00:00:00|       CIBC|                 3|          1|Fuel Dispenser, A...|             0.0|               0|\n",
      "+--------------------+-----------+------------------+-----------+--------------------+----------------+----------------+\n",
      "only showing top 5 rows\n",
      "\n"
     ]
    }
   ],
   "source": [
    "### For fisualization only.\n",
    "# Build a base dataframe from cores/sources\n",
    "example_df = store.get_core(\"issuer\")\n",
    "print(\"n_rows: %d\" %example_df.count())\n",
    "print(\"n_cols: %d\" %len(example_df.columns))\n",
    "example_df.show(truncate=True, n=5)"
   ]
  },
  {
   "cell_type": "code",
   "execution_count": 6,
   "metadata": {},
   "outputs": [],
   "source": [
    "### For fisualization only.\n",
    "# Build a base dataframe from cores/sources\n",
    "#bank_df = store.get_core(\"bank_id\").alias('bank')\n",
    "#print(\"n_rows: %d\" %bank_df.count())\n",
    "#print(\"n_cols: %d\" %len(bank_df.columns))\n",
    "#bank_df.show(truncate=True, n=5)"
   ]
  },
  {
   "cell_type": "code",
   "execution_count": 7,
   "metadata": {},
   "outputs": [],
   "source": [
    "#example_df.select(\"issuer_name\").distinct().show()"
   ]
  },
  {
   "cell_type": "code",
   "execution_count": 8,
   "metadata": {},
   "outputs": [],
   "source": [
    "# Build a base dataframe from cores/sources\n",
    "store_sales_df = store.get_core(\"issuer\").filter(col('purchase_txn_amt') > 0).alias('clean_amount')"
   ]
  },
  {
   "cell_type": "code",
   "execution_count": 9,
   "metadata": {},
   "outputs": [
    {
     "name": "stdout",
     "output_type": "stream",
     "text": [
      "n_rows: 5342\n",
      "n_cols: 7\n",
      "+--------------------+---------------+------------------+-----------+--------------------+----------------+----------------+\n",
      "|header_capture_month|    issuer_name|chip_indicator_uid|product_uid|         description|purchase_txn_amt|purchase_txn_cnt|\n",
      "+--------------------+---------------+------------------+-----------+--------------------+----------------+----------------+\n",
      "| 2016-09-01 00:00:00|     Royal Bank|                 7|          1|     Hardware Stores|   7.127944081E7|          919933|\n",
      "| 2017-04-01 00:00:00|     Scotiabank|                 9|          1|Drug Stores, Phar...|   1.672346653E7|          784273|\n",
      "| 2018-12-01 00:00:00|     Royal Bank|                 3|          1|Grocery Stores, S...|       100088.58|            1194|\n",
      "| 2018-08-01 00:00:00|           CIBC|                 7|          1|     Hardware Stores|   6.163271108E7|          706047|\n",
      "| 2018-10-01 00:00:00|TD Canada Trust|                 3|          1|Eating Places, Re...|           994.3|              17|\n",
      "+--------------------+---------------+------------------+-----------+--------------------+----------------+----------------+\n",
      "only showing top 5 rows\n",
      "\n"
     ]
    }
   ],
   "source": [
    "print(\"n_rows: %d\" %store_sales_df.count())\n",
    "print(\"n_cols: %d\" %len(store_sales_df.columns))\n",
    "store_sales_df.show(truncate=True, n=5)"
   ]
  },
  {
   "cell_type": "code",
   "execution_count": 10,
   "metadata": {},
   "outputs": [
    {
     "data": {
      "text/plain": [
       "datetime.datetime(2016, 1, 1, 0, 0)"
      ]
     },
     "execution_count": 10,
     "metadata": {},
     "output_type": "execute_result"
    }
   ],
   "source": [
    "store_sales_df.agg({\"header_capture_month\": \"min\"}).collect()[0][0]"
   ]
  },
  {
   "cell_type": "markdown",
   "metadata": {},
   "source": [
    "### Continue with example\n",
    "\n",
    "Make a join!"
   ]
  },
  {
   "cell_type": "code",
   "execution_count": 11,
   "metadata": {},
   "outputs": [],
   "source": [
    "#base_df = store_sales_df.join(bank_df, ['issuer_name'])\\\n",
    "#  .select('clean_amount.*', 'bank.issuer_id')"
   ]
  },
  {
   "cell_type": "code",
   "execution_count": 12,
   "metadata": {},
   "outputs": [],
   "source": [
    "#base_df.show(truncate=True, n=5)"
   ]
  },
  {
   "cell_type": "markdown",
   "metadata": {},
   "source": [
    "### Build the Features Dataframe"
   ]
  },
  {
   "cell_type": "code",
   "execution_count": 13,
   "metadata": {},
   "outputs": [],
   "source": [
    "#feature_df = ff.append_features(base_df, groupBy_cols = ['issuer_name'], feature_sets=[mult_features])\n",
    "feature_df = ff.append_features(store_sales_df, groupBy_cols = ['issuer_name'], feature_sets=[mult_features])"
   ]
  },
  {
   "cell_type": "code",
   "execution_count": 14,
   "metadata": {},
   "outputs": [
    {
     "name": "stdout",
     "output_type": "stream",
     "text": [
      "+--------------------+--------------------+--------------+\n",
      "|         issuer_name|           net_sales|total_quantity|\n",
      "+--------------------+--------------------+--------------+\n",
      "|BMO Bank of Montreal|  8.85825478646001E9|     286346816|\n",
      "|          Royal Bank|1.919939227528001...|     636845558|\n",
      "|          Scotiabank|1.126012862541997...|     385629905|\n",
      "|     TD Canada Trust|2.102817429950998...|     734890180|\n",
      "|                CIBC|1.428790330563999E10|     483494762|\n",
      "+--------------------+--------------------+--------------+\n",
      "\n"
     ]
    }
   ],
   "source": [
    "feature_df.show()"
   ]
  },
  {
   "cell_type": "code",
   "execution_count": null,
   "metadata": {},
   "outputs": [],
   "source": []
  },
  {
   "cell_type": "markdown",
   "metadata": {},
   "source": [
    "### Write to Disk and Read the Aggregated Data"
   ]
  },
  {
   "cell_type": "code",
   "execution_count": 15,
   "metadata": {},
   "outputs": [],
   "source": [
    "#feature_df.write.format(\"parquet\").mode(\"overwrite\").save(\"./temp/base_feats_df_out\")"
   ]
  },
  {
   "cell_type": "code",
   "execution_count": 16,
   "metadata": {},
   "outputs": [],
   "source": [
    "#from pyspark.sql import SparkSession\n",
    "#spark = SparkSession.builder.appName('Test').getOrCreate()\n",
    "#read_df = spark.read.format(\"parquet\").load(\"./temp/base_feats_df_out\")\n",
    "#read_df.show(truncate=True, n=5)"
   ]
  },
  {
   "cell_type": "markdown",
   "metadata": {},
   "source": [
    "### Using Multipliers"
   ]
  },
  {
   "cell_type": "code",
   "execution_count": 17,
   "metadata": {},
   "outputs": [
    {
     "data": {
      "text/plain": [
       "{'snapshot_type': 'DAILY',\n",
       " 'snapshot_date': '2018-01-01',\n",
       " 'partition_col': None,\n",
       " 'date_col': 'header_capture_month',\n",
       " 'date_col_format': '%Y-%m-%d',\n",
       " 'partition_col_format': '%Y%m',\n",
       " 'date_filters': {'ranges': {'1m': {'start': '2017-12-01',\n",
       "    'end': '2018-01-01'},\n",
       "   '3m': {'start': '2017-10-01', 'end': '2018-01-01'}}},\n",
       " 'partition_lower': '201710',\n",
       " 'partition_upper': '201801'}"
      ]
     },
     "execution_count": 17,
     "metadata": {},
     "output_type": "execute_result"
    }
   ],
   "source": [
    "store.config.get_config('time_helpers').configs"
   ]
  },
  {
   "cell_type": "code",
   "execution_count": 18,
   "metadata": {},
   "outputs": [],
   "source": [
    "time_multipliers = store.get_daterange_multiplier()"
   ]
  },
  {
   "cell_type": "code",
   "execution_count": 19,
   "metadata": {},
   "outputs": [],
   "source": [
    "mult_by_time_features = mult_features.multiply(time_multipliers, \"STORE\")"
   ]
  },
  {
   "cell_type": "code",
   "execution_count": 22,
   "metadata": {},
   "outputs": [],
   "source": [
    "feature_df = ff.append_features(store_sales_df,\n",
    "                                groupBy_cols = ['clean_amount.chip_indicator_uid'],\n",
    "                                feature_sets=[mult_features, mult_by_time_features])\n"
   ]
  },
  {
   "cell_type": "code",
   "execution_count": 23,
   "metadata": {},
   "outputs": [
    {
     "name": "stdout",
     "output_type": "stream",
     "text": [
      "+------------------+--------------------+--------------+--------------------+--------------------+-----------------------+-----------------------+\n",
      "|chip_indicator_uid|           net_sales|total_quantity|  STORE_1M_NET_SALES|  STORE_3M_NET_SALES|STORE_1M_TOTAL_QUANTITY|STORE_3M_TOTAL_QUANTITY|\n",
      "+------------------+--------------------+--------------+--------------------+--------------------+-----------------------+-----------------------+\n",
      "|                 6|               52.41|             1|                 0.0|               52.41|                      0|                      1|\n",
      "|                 3| 5.409171115000006E7|       1696271|  390674.47000000003|  1088949.6099999999|                   6348|                  20523|\n",
      "|                 5|      1.4351703091E8|       3915814|          4527384.78|       1.252198736E7|                 102887|                 311881|\n",
      "|                 9|1.683412248285999...|    1000494061| 5.750419964200001E8|1.5866615026900005E9|               31548693|               92396379|\n",
      "|                 4|6.3425878529999964E7|       1898011|  1280.3799999999999|  1722.0300000000002|                     13|                     58|\n",
      "|                 7|5.751287592964993E10|    1518959975|1.8397529930000005E9| 5.008232215580001E9|               41209251|              122181830|\n",
      "|                 2|2.5820206799999997E7|        243088|  1044744.5299999999|  2558333.0100000007|                   9274|                  23823|\n",
      "+------------------+--------------------+--------------+--------------------+--------------------+-----------------------+-----------------------+\n",
      "\n"
     ]
    }
   ],
   "source": [
    "feature_df.show()"
   ]
  },
  {
   "cell_type": "code",
   "execution_count": null,
   "metadata": {},
   "outputs": [],
   "source": [
    "feature_df.write.format(\"parquet\").mode(\"overwrite\").save(\"/tmp/tomes/ff/demo/mults1_feats_df_out\")\n"
   ]
  },
  {
   "cell_type": "code",
   "execution_count": null,
   "metadata": {},
   "outputs": [],
   "source": [
    "display(spark.read.format(\"parquet\").load(\"/tmp/tomes/ff/demo/mults1_feats_df_out\"))"
   ]
  },
  {
   "cell_type": "code",
   "execution_count": null,
   "metadata": {},
   "outputs": [],
   "source": []
  }
 ],
 "metadata": {
  "kernelspec": {
   "display_name": "Python 3",
   "language": "python",
   "name": "python3"
  },
  "language_info": {
   "codemirror_mode": {
    "name": "ipython",
    "version": 3
   },
   "file_extension": ".py",
   "mimetype": "text/x-python",
   "name": "python",
   "nbconvert_exporter": "python",
   "pygments_lexer": "ipython3",
   "version": "3.6.7"
  }
 },
 "nbformat": 4,
 "nbformat_minor": 4
}
