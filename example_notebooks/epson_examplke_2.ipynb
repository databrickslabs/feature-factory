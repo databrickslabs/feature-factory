{
 "cells": [
  {
   "cell_type": "code",
   "execution_count": 1,
   "metadata": {},
   "outputs": [],
   "source": [
    "from pyspark.sql import SparkSession\n",
    "from pyspark.sql.functions import col\n",
    "from pyspark.sql import functions as F\n",
    "from framework.feature_factory.helpers import Helpers\n",
    "from channelDemoMarket import Store\n",
    "\n",
    "spark = SparkSession.builder.appName('Test').getOrCreate()\n",
    "spark.conf.set(\"spark.sql.shuffle.partitions\", 96*2)"
   ]
  },
  {
   "cell_type": "code",
   "execution_count": 2,
   "metadata": {},
   "outputs": [],
   "source": [
    "# Istantiate store\n",
    "#store = Store(_snapshot_date = \"2018-01-01\") #This works, but no neted features.\n",
    "store = Store(_snapshot_date = \"2018-01-01\")\n"
   ]
  },
  {
   "cell_type": "code",
   "execution_count": 3,
   "metadata": {},
   "outputs": [],
   "source": [
    "# Get The feature factory\n",
    "ff = store.ff"
   ]
  },
  {
   "cell_type": "code",
   "execution_count": 4,
   "metadata": {},
   "outputs": [],
   "source": [
    "# Grab some sales features\n",
    "mult_features, base_features = store.Sales().get_all()"
   ]
  },
  {
   "cell_type": "code",
   "execution_count": 5,
   "metadata": {},
   "outputs": [
    {
     "name": "stdout",
     "output_type": "stream",
     "text": [
      "n_rows: 5613\n",
      "n_cols: 7\n",
      "+--------------------+-----------+------------------+-----------+--------------------+----------------+----------------+\n",
      "|header_capture_month|issuer_name|chip_indicator_uid|product_uid|         description|purchase_txn_amt|purchase_txn_cnt|\n",
      "+--------------------+-----------+------------------+-----------+--------------------+----------------+----------------+\n",
      "| 2016-09-01 00:00:00| Royal Bank|                 7|          1|     Hardware Stores|   7.127944081E7|          919933|\n",
      "| 2017-04-01 00:00:00| Scotiabank|                 9|          1|Drug Stores, Phar...|   1.672346653E7|          784273|\n",
      "| 2018-12-01 00:00:00| Royal Bank|                 3|          1|Grocery Stores, S...|       100088.58|            1194|\n",
      "| 2018-08-01 00:00:00|       CIBC|                 7|          1|     Hardware Stores|   6.163271108E7|          706047|\n",
      "| 2017-09-01 00:00:00|       CIBC|                 3|          1|Fuel Dispenser, A...|             0.0|               0|\n",
      "+--------------------+-----------+------------------+-----------+--------------------+----------------+----------------+\n",
      "only showing top 5 rows\n",
      "\n"
     ]
    }
   ],
   "source": [
    "### For fisualization only.\n",
    "# Build a base dataframe from cores/sources\n",
    "example_df = store.get_core(\"issuer\")\n",
    "print(\"n_rows: %d\" %example_df.count())\n",
    "print(\"n_cols: %d\" %len(example_df.columns))\n",
    "example_df.show(truncate=True, n=5)"
   ]
  },
  {
   "cell_type": "code",
   "execution_count": 6,
   "metadata": {},
   "outputs": [
    {
     "name": "stdout",
     "output_type": "stream",
     "text": [
      "n_rows: 5\n",
      "n_cols: 2\n",
      "+--------------------+---------+\n",
      "|         issuer_name|issuer_id|\n",
      "+--------------------+---------+\n",
      "|          Royal Bank|        1|\n",
      "|BMO Bank of Montreal|        2|\n",
      "|          Scotiabank|        3|\n",
      "|     TD Canada Trust|        4|\n",
      "|                CIBC|        5|\n",
      "+--------------------+---------+\n",
      "\n"
     ]
    }
   ],
   "source": [
    "### For visualization only.\n",
    "# Build a base dataframe from cores/sources\n",
    "bank_df = store.get_core(\"bank_id\").alias('bank')\n",
    "print(\"n_rows: %d\" %bank_df.count())\n",
    "print(\"n_cols: %d\" %len(bank_df.columns))\n",
    "bank_df.show(truncate=True, n=5)"
   ]
  },
  {
   "cell_type": "code",
   "execution_count": 8,
   "metadata": {},
   "outputs": [],
   "source": [
    "# Build a base dataframe from cores/sources\n",
    "store_sales_df = store.get_core(\"issuer\").filter(col('purchase_txn_amt') > 0).alias('clean_amount')"
   ]
  },
  {
   "cell_type": "code",
   "execution_count": 9,
   "metadata": {},
   "outputs": [
    {
     "name": "stdout",
     "output_type": "stream",
     "text": [
      "n_rows: 5342\n",
      "n_cols: 7\n",
      "+--------------------+---------------+------------------+-----------+--------------------+----------------+----------------+\n",
      "|header_capture_month|    issuer_name|chip_indicator_uid|product_uid|         description|purchase_txn_amt|purchase_txn_cnt|\n",
      "+--------------------+---------------+------------------+-----------+--------------------+----------------+----------------+\n",
      "| 2016-09-01 00:00:00|     Royal Bank|                 7|          1|     Hardware Stores|   7.127944081E7|          919933|\n",
      "| 2017-04-01 00:00:00|     Scotiabank|                 9|          1|Drug Stores, Phar...|   1.672346653E7|          784273|\n",
      "| 2018-12-01 00:00:00|     Royal Bank|                 3|          1|Grocery Stores, S...|       100088.58|            1194|\n",
      "| 2018-08-01 00:00:00|           CIBC|                 7|          1|     Hardware Stores|   6.163271108E7|          706047|\n",
      "| 2018-10-01 00:00:00|TD Canada Trust|                 3|          1|Eating Places, Re...|           994.3|              17|\n",
      "+--------------------+---------------+------------------+-----------+--------------------+----------------+----------------+\n",
      "only showing top 5 rows\n",
      "\n"
     ]
    }
   ],
   "source": [
    "print(\"n_rows: %d\" %store_sales_df.count())\n",
    "print(\"n_cols: %d\" %len(store_sales_df.columns))\n",
    "store_sales_df.show(truncate=True, n=5)"
   ]
  },
  {
   "cell_type": "markdown",
   "metadata": {},
   "source": [
    "### Continue with example\n",
    "\n",
    "Make a join!"
   ]
  },
  {
   "cell_type": "code",
   "execution_count": 11,
   "metadata": {},
   "outputs": [
    {
     "name": "stdout",
     "output_type": "stream",
     "text": [
      "+---------------+--------------------+------------------+-----------+--------------------+----------------+----------------+---------+\n",
      "|    issuer_name|header_capture_month|chip_indicator_uid|product_uid|         description|purchase_txn_amt|purchase_txn_cnt|issuer_id|\n",
      "+---------------+--------------------+------------------+-----------+--------------------+----------------+----------------+---------+\n",
      "|     Royal Bank| 2016-09-01 00:00:00|                 7|          1|     Hardware Stores|   7.127944081E7|          919933|        1|\n",
      "|     Scotiabank| 2017-04-01 00:00:00|                 9|          1|Drug Stores, Phar...|   1.672346653E7|          784273|        3|\n",
      "|     Royal Bank| 2018-12-01 00:00:00|                 3|          1|Grocery Stores, S...|       100088.58|            1194|        1|\n",
      "|           CIBC| 2018-08-01 00:00:00|                 7|          1|     Hardware Stores|   6.163271108E7|          706047|        5|\n",
      "|TD Canada Trust| 2018-10-01 00:00:00|                 3|          1|Eating Places, Re...|           994.3|              17|        4|\n",
      "+---------------+--------------------+------------------+-----------+--------------------+----------------+----------------+---------+\n",
      "only showing top 5 rows\n",
      "\n"
     ]
    }
   ],
   "source": [
    "base_df = store_sales_df.join(bank_df, ['issuer_name'])\\\n",
    "  .select('clean_amount.*', 'bank.issuer_id')\n",
    "base_df.show(truncate=True, n=5)"
   ]
  },
  {
   "cell_type": "markdown",
   "metadata": {},
   "source": [
    "### Show distinct categoricals"
   ]
  },
  {
   "cell_type": "code",
   "execution_count": 12,
   "metadata": {},
   "outputs": [
    {
     "data": {
      "text/plain": [
       "[Row(chip_indicator_uid=5),\n",
       " Row(chip_indicator_uid=7),\n",
       " Row(chip_indicator_uid=3),\n",
       " Row(chip_indicator_uid=9),\n",
       " Row(chip_indicator_uid=4),\n",
       " Row(chip_indicator_uid=2),\n",
       " Row(chip_indicator_uid=6)]"
      ]
     },
     "execution_count": 12,
     "metadata": {},
     "output_type": "execute_result"
    }
   ],
   "source": [
    "base_df.select(\"chip_indicator_uid\").distinct().collect()"
   ]
  },
  {
   "cell_type": "code",
   "execution_count": 13,
   "metadata": {},
   "outputs": [
    {
     "data": {
      "text/plain": [
       "[Row(product_uid=2), Row(product_uid=1)]"
      ]
     },
     "execution_count": 13,
     "metadata": {},
     "output_type": "execute_result"
    }
   ],
   "source": [
    "base_df.select(\"product_uid\").distinct().collect()"
   ]
  },
  {
   "cell_type": "markdown",
   "metadata": {},
   "source": [
    "### Build a Features Dataframe\n",
    "\n",
    "Here, we are simply calling the aggregation methods in mult_features to be applied over a group by on 'issuer_name'"
   ]
  },
  {
   "cell_type": "code",
   "execution_count": 14,
   "metadata": {},
   "outputs": [
    {
     "name": "stdout",
     "output_type": "stream",
     "text": [
      "+--------------------+--------------------+\n",
      "|         issuer_name|           net_sales|\n",
      "+--------------------+--------------------+\n",
      "|BMO Bank of Montreal|  8.85825478646001E9|\n",
      "|                CIBC|1.428790330563999E10|\n",
      "|          Scotiabank|1.126012862541997...|\n",
      "|          Royal Bank|1.919939227528001...|\n",
      "|     TD Canada Trust|2.102817429950998...|\n",
      "+--------------------+--------------------+\n",
      "\n"
     ]
    }
   ],
   "source": [
    "feature_df = ff.append_features(base_df, groupBy_cols = ['issuer_name'], feature_sets=[mult_features])\n",
    "#feature_df = ff.append_features(store_sales_df, groupBy_cols = ['issuer_name'], feature_sets=[mult_features])\n",
    "feature_df.show()"
   ]
  },
  {
   "cell_type": "markdown",
   "metadata": {},
   "source": [
    "### Using Multipliers\n",
    "\n",
    "We will create a new features dataframe using composite aggregations."
   ]
  },
  {
   "cell_type": "code",
   "execution_count": 15,
   "metadata": {},
   "outputs": [
    {
     "data": {
      "text/plain": [
       "{'snapshot_type': 'DAILY',\n",
       " 'snapshot_date': '2018-01-01',\n",
       " 'partition_col': None,\n",
       " 'date_col': 'header_capture_month',\n",
       " 'date_col_format': '%Y-%m-%d',\n",
       " 'partition_col_format': '%Y%m',\n",
       " 'date_filters': {'ranges': {'1m': {'start': '2017-12-01',\n",
       "    'end': '2018-01-01'},\n",
       "   '3m': {'start': '2017-10-01', 'end': '2018-01-01'}}},\n",
       " 'partition_lower': '201710',\n",
       " 'partition_upper': '201801'}"
      ]
     },
     "execution_count": 15,
     "metadata": {},
     "output_type": "execute_result"
    }
   ],
   "source": [
    "store.config.get_config('time_helpers').configs"
   ]
  },
  {
   "cell_type": "code",
   "execution_count": 16,
   "metadata": {},
   "outputs": [],
   "source": [
    "time_multipliers = store.get_daterange_multiplier()"
   ]
  },
  {
   "cell_type": "code",
   "execution_count": 17,
   "metadata": {},
   "outputs": [],
   "source": [
    "mult_by_time_features = mult_features.multiply(time_multipliers, \"STORE\")"
   ]
  },
  {
   "cell_type": "markdown",
   "metadata": {},
   "source": [
    "### Nested features\n",
    "Now let's assume we have several cateogical columns for which we want to calculate aggregates.\n",
    "\n",
    "The categorical multiplier allows you to either specific to which columns you wish to apply the multiplier as well as a minimum distinct values count n and an ignore list of columns and it will efficiently find all the columns with < n distinct values"
   ]
  },
  {
   "cell_type": "code",
   "execution_count": 24,
   "metadata": {},
   "outputs": [],
   "source": [
    "categorical_multiplier = Helpers().get_categoricals_multiplier(df = store.get_core(\"issuer\"),\n",
    "                                                               col_list = ['product_uid'])\n",
    "\n",
    "by_time_by_cat = mult_by_time_features.multiply(categorical_multiplier, \"STORE\")"
   ]
  },
  {
   "cell_type": "code",
   "execution_count": 29,
   "metadata": {},
   "outputs": [],
   "source": [
    "feature_df = ff.append_features(base_df,\n",
    "                                groupBy_cols=['issuer_name'],\n",
    "                                feature_sets=[mult_features, mult_by_time_features, by_time_by_cat])"
   ]
  },
  {
   "cell_type": "code",
   "execution_count": 30,
   "metadata": {},
   "outputs": [
    {
     "name": "stdout",
     "output_type": "stream",
     "text": [
      "n cols = 8\n",
      "+--------------------+--------------------+--------------------+--------------------+--------------------------------+--------------------------------+--------------------------------+--------------------------------+\n",
      "|         issuer_name|           net_sales|  STORE_1M_NET_SALES|  STORE_3M_NET_SALES|STORE_PRODUCT_UID-2_1M_NET_SALES|STORE_PRODUCT_UID-1_1M_NET_SALES|STORE_PRODUCT_UID-2_3M_NET_SALES|STORE_PRODUCT_UID-1_3M_NET_SALES|\n",
      "+--------------------+--------------------+--------------------+--------------------+--------------------------------+--------------------------------+--------------------------------+--------------------------------+\n",
      "|BMO Bank of Montreal|  8.85825478646001E9|2.8818181919000006E8| 7.857798393399997E8|                   5.359639188E7|            2.3458542731000003E8|                   5.369875249E7|             7.320810868499999E8|\n",
      "|                CIBC|1.428790330563999E10|4.6480695909999996E8|1.2644895344200006E9|                             0.0|            4.6480695909999996E8|                   2.836542141E7|            1.2361241130100005E9|\n",
      "|          Scotiabank|1.126012862541997...| 3.680321350300001E8|     1.00017621526E9|                   7.474542773E7|            2.9328670729999995E8|                   7.474549818E7|             9.254307170799999E8|\n",
      "|          Royal Bank|1.919939227528001...| 6.251852189400002E8|1.7059060670299997E9|            4.6586554660000004E7|             5.785986642800001E8|                    8.18035225E7|            1.6241025445299997E9|\n",
      "|     TD Canada Trust|2.102817429950998...|      6.7455294132E8|1.8547131066399994E9|            1.3402180860000001E7|                  6.6115076046E8|                  1.6505454735E8|            1.6896585592899995E9|\n",
      "+--------------------+--------------------+--------------------+--------------------+--------------------------------+--------------------------------+--------------------------------+--------------------------------+\n",
      "\n"
     ]
    }
   ],
   "source": [
    "print(\"n cols = %d\" %len(feature_df.columns))\n",
    "feature_df.show(truncate=True, n=5)"
   ]
  },
  {
   "cell_type": "markdown",
   "metadata": {},
   "source": [
    "### Further nesting"
   ]
  },
  {
   "cell_type": "code",
   "execution_count": 31,
   "metadata": {},
   "outputs": [],
   "source": [
    "categorical_multiplier_2 = Helpers().get_categoricals_multiplier(df = store.get_core(\"issuer\"),\n",
    "                                                               col_list = ['chip_indicator_uid'])\n",
    "\n",
    "by_time_by_cat_by_cat = by_time_by_cat.multiply(categorical_multiplier_2, \"STORE\")"
   ]
  },
  {
   "cell_type": "code",
   "execution_count": 32,
   "metadata": {},
   "outputs": [],
   "source": [
    "feature_df = ff.append_features(base_df,\n",
    "                                groupBy_cols=['issuer_name'],\n",
    "                                feature_sets=[by_time_by_cat_by_cat])"
   ]
  },
  {
   "cell_type": "code",
   "execution_count": 33,
   "metadata": {},
   "outputs": [
    {
     "name": "stdout",
     "output_type": "stream",
     "text": [
      "n cols = 29\n",
      "+--------------------+-----------------------------------------------------+-----------------------------------------------------+-----------------------------------------------------+-----------------------------------------------------+-----------------------------------------------------+-----------------------------------------------------+-----------------------------------------------------+-----------------------------------------------------+-----------------------------------------------------+-----------------------------------------------------+-----------------------------------------------------+-----------------------------------------------------+-----------------------------------------------------+-----------------------------------------------------+-----------------------------------------------------+-----------------------------------------------------+-----------------------------------------------------+-----------------------------------------------------+-----------------------------------------------------+-----------------------------------------------------+-----------------------------------------------------+-----------------------------------------------------+-----------------------------------------------------+-----------------------------------------------------+-----------------------------------------------------+-----------------------------------------------------+-----------------------------------------------------+-----------------------------------------------------+\n",
      "|         issuer_name|STORE_CHIP_INDICATOR_UID-5_PRODUCT_UID-2_1M_NET_SALES|STORE_CHIP_INDICATOR_UID-7_PRODUCT_UID-2_1M_NET_SALES|STORE_CHIP_INDICATOR_UID-3_PRODUCT_UID-2_1M_NET_SALES|STORE_CHIP_INDICATOR_UID-9_PRODUCT_UID-2_1M_NET_SALES|STORE_CHIP_INDICATOR_UID-4_PRODUCT_UID-2_1M_NET_SALES|STORE_CHIP_INDICATOR_UID-2_PRODUCT_UID-2_1M_NET_SALES|STORE_CHIP_INDICATOR_UID-6_PRODUCT_UID-2_1M_NET_SALES|STORE_CHIP_INDICATOR_UID-5_PRODUCT_UID-1_1M_NET_SALES|STORE_CHIP_INDICATOR_UID-7_PRODUCT_UID-1_1M_NET_SALES|STORE_CHIP_INDICATOR_UID-3_PRODUCT_UID-1_1M_NET_SALES|STORE_CHIP_INDICATOR_UID-9_PRODUCT_UID-1_1M_NET_SALES|STORE_CHIP_INDICATOR_UID-4_PRODUCT_UID-1_1M_NET_SALES|STORE_CHIP_INDICATOR_UID-2_PRODUCT_UID-1_1M_NET_SALES|STORE_CHIP_INDICATOR_UID-6_PRODUCT_UID-1_1M_NET_SALES|STORE_CHIP_INDICATOR_UID-5_PRODUCT_UID-2_3M_NET_SALES|STORE_CHIP_INDICATOR_UID-7_PRODUCT_UID-2_3M_NET_SALES|STORE_CHIP_INDICATOR_UID-3_PRODUCT_UID-2_3M_NET_SALES|STORE_CHIP_INDICATOR_UID-9_PRODUCT_UID-2_3M_NET_SALES|STORE_CHIP_INDICATOR_UID-4_PRODUCT_UID-2_3M_NET_SALES|STORE_CHIP_INDICATOR_UID-2_PRODUCT_UID-2_3M_NET_SALES|STORE_CHIP_INDICATOR_UID-6_PRODUCT_UID-2_3M_NET_SALES|STORE_CHIP_INDICATOR_UID-5_PRODUCT_UID-1_3M_NET_SALES|STORE_CHIP_INDICATOR_UID-7_PRODUCT_UID-1_3M_NET_SALES|STORE_CHIP_INDICATOR_UID-3_PRODUCT_UID-1_3M_NET_SALES|STORE_CHIP_INDICATOR_UID-9_PRODUCT_UID-1_3M_NET_SALES|STORE_CHIP_INDICATOR_UID-4_PRODUCT_UID-1_3M_NET_SALES|STORE_CHIP_INDICATOR_UID-2_PRODUCT_UID-1_3M_NET_SALES|STORE_CHIP_INDICATOR_UID-6_PRODUCT_UID-1_3M_NET_SALES|\n",
      "+--------------------+-----------------------------------------------------+-----------------------------------------------------+-----------------------------------------------------+-----------------------------------------------------+-----------------------------------------------------+-----------------------------------------------------+-----------------------------------------------------+-----------------------------------------------------+-----------------------------------------------------+-----------------------------------------------------+-----------------------------------------------------+-----------------------------------------------------+-----------------------------------------------------+-----------------------------------------------------+-----------------------------------------------------+-----------------------------------------------------+-----------------------------------------------------+-----------------------------------------------------+-----------------------------------------------------+-----------------------------------------------------+-----------------------------------------------------+-----------------------------------------------------+-----------------------------------------------------+-----------------------------------------------------+-----------------------------------------------------+-----------------------------------------------------+-----------------------------------------------------+-----------------------------------------------------+\n",
      "|BMO Bank of Montreal|                                            130898.56|                                        5.346547727E7|                                                  0.0|                                                  0.0|                                                16.05|                                                  0.0|                                                  0.0|                                   443321.47000000003|                                 1.7783716289999998E8|                                   418.92999999999995|                                        5.630356491E7|                                                  0.0|                                                959.1|                                                  0.0|                                   233259.16999999998|                                        5.346547727E7|                                                  0.0|                                                  0.0|                                                16.05|                                                  0.0|                                                  0.0|                                   1416478.9900000002|                                  5.769670900699999E8|                                              2057.13|                                 1.5369344945999998E8|                                                24.85|                                   1933.9399999999998|                                                52.41|\n",
      "|                CIBC|                                                  0.0|                                                  0.0|                                                  0.0|                                                  0.0|                                                  0.0|                                                  0.0|                                                  0.0|                                    895972.4600000001|                                        3.481194841E8|                                               1778.2|                                       1.1578915425E8|                                                 6.43|                                               563.66|                                                  0.0|                                            241973.05|                                                  0.0|                                                  0.0|                                        2.812341832E7|                                                  0.0|                                                30.04|                                                  0.0|                                   2276307.6800000006|                                  9.513741973100001E8|                                   3020.7900000000004|                                        2.824682234E8|                                                48.71|                                   2315.1200000000003|                                                  0.0|\n",
      "|          Scotiabank|                                             73740.72|                                        6.932995247E7|                                                  0.0|                                           5341734.54|                                                  0.0|                                                  0.0|                                                  0.0|                                            604435.74|                                       2.2119150078E8|                                                48.89|                                  7.148911171000001E7|                                              1103.76|                                               506.42|                                                  0.0|                                             73740.72|                                        6.932995247E7|                                                  0.0|                                           5341734.54|                                                  0.0|                                                70.45|                                                  0.0|                                           1741225.37|                                       7.1651167518E8|                                   371.67999999999995|                                 2.0717449907999998E8|                                              1136.42|                                              1809.35|                                                  0.0|\n",
      "|          Royal Bank|                                            643955.87|                                                  0.0|                                                  0.0|                                        4.594259879E7|                                                  0.0|                                                  0.0|                                                  0.0|                                            671094.96|                                        4.383325881E8|                                   356823.97000000003|                                       1.3821572047E8|                                                86.34|                                           1022350.44|                                                  0.0|                                    986248.3300000001|                                                  0.0|                                              72199.5|                                        8.074445115E7|                                                46.31|                                               577.21|                                                  0.0|                                           2626632.33|                                      1.18818720449E9|                                    956404.2299999999|                                  4.298357244800001E8|                                   144.51000000000002|                                           2496434.49|                                                  0.0|\n",
      "|     TD Canada Trust|                                             209403.4|                                                  0.0|                                                  0.0|                                        1.319277746E7|                                                  0.0|                                                  0.0|                                                  0.0|                                             854561.6|                                 5.3147682737999994E8|                                             31604.48|                                 1.2876733428999999E8|                                                 67.8|                                             20364.91|                                                  0.0|                                             209403.4|                                       1.0699467935E8|                                               389.54|                                         5.78490916E7|                                                  0.0|                                               983.46|                                                  0.0|                                           2716718.32|                                 1.3454019394400003E9|                                             54506.74|                                       3.4143091066E8|                                   305.17999999999995|                                             54178.95|                                                  0.0|\n",
      "+--------------------+-----------------------------------------------------+-----------------------------------------------------+-----------------------------------------------------+-----------------------------------------------------+-----------------------------------------------------+-----------------------------------------------------+-----------------------------------------------------+-----------------------------------------------------+-----------------------------------------------------+-----------------------------------------------------+-----------------------------------------------------+-----------------------------------------------------+-----------------------------------------------------+-----------------------------------------------------+-----------------------------------------------------+-----------------------------------------------------+-----------------------------------------------------+-----------------------------------------------------+-----------------------------------------------------+-----------------------------------------------------+-----------------------------------------------------+-----------------------------------------------------+-----------------------------------------------------+-----------------------------------------------------+-----------------------------------------------------+-----------------------------------------------------+-----------------------------------------------------+-----------------------------------------------------+\n",
      "\n"
     ]
    }
   ],
   "source": [
    "print(\"n cols = %d\" %len(feature_df.columns))\n",
    "feature_df.show(truncate=True, n=5)"
   ]
  },
  {
   "cell_type": "code",
   "execution_count": null,
   "metadata": {},
   "outputs": [],
   "source": []
  }
 ],
 "metadata": {
  "kernelspec": {
   "display_name": "Python 3",
   "language": "python",
   "name": "python3"
  },
  "language_info": {
   "codemirror_mode": {
    "name": "ipython",
    "version": 3
   },
   "file_extension": ".py",
   "mimetype": "text/x-python",
   "name": "python",
   "nbconvert_exporter": "python",
   "pygments_lexer": "ipython3",
   "version": "3.6.7"
  }
 },
 "nbformat": 4,
 "nbformat_minor": 4
}
